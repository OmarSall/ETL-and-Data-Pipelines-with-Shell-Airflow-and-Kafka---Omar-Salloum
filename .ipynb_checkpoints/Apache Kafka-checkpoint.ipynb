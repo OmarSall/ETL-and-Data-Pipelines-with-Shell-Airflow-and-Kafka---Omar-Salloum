{
 "cells": [
  {
   "cell_type": "code",
   "execution_count": null,
   "id": "3ba45ca1",
   "metadata": {},
   "outputs": [],
   "source": [
    "wget https://archive.apache.org/dist/kafka/2.8.0/kafka_2.12-2.8.0.tgz"
   ]
  },
  {
   "cell_type": "code",
   "execution_count": null,
   "id": "7482e9a7",
   "metadata": {},
   "outputs": [],
   "source": [
    "tar -xzf kafka_2.12-2.8.0.tgz"
   ]
  },
  {
   "cell_type": "code",
   "execution_count": null,
   "id": "374eb285",
   "metadata": {},
   "outputs": [],
   "source": [
    "https://linuxomaniak.yum.pl/tar-kompendium-z-przykladami"
   ]
  },
  {
   "cell_type": "code",
   "execution_count": null,
   "id": "2aea21a7",
   "metadata": {},
   "outputs": [],
   "source": [
    "cd kafka_2.12-2.8.0\n",
    "bin/zookeeper-server-start.sh config/zookeeper.properties"
   ]
  },
  {
   "cell_type": "markdown",
   "id": "921b2afd",
   "metadata": {},
   "source": [
    "ZooKeeper, as of this version, is required for Kafka to work. ZooKeeper is responsible for the overall management of Kafka cluster. It monitors the Kafka brokers and notifies Kafka if any broker or partition goes down, or if a new broker or partition goes up.\n"
   ]
  },
  {
   "cell_type": "markdown",
   "id": "c2d00451",
   "metadata": {},
   "source": [
    "# Start the Kafka broker service"
   ]
  },
  {
   "cell_type": "code",
   "execution_count": null,
   "id": "c98a9e2b",
   "metadata": {},
   "outputs": [],
   "source": [
    "cd kafka_2.12-2.8.0\n"
   ]
  },
  {
   "cell_type": "code",
   "execution_count": null,
   "id": "ca8ddf41",
   "metadata": {},
   "outputs": [],
   "source": [
    "bin/kafka-server-start.sh config/server.properties"
   ]
  },
  {
   "cell_type": "markdown",
   "id": "09c3d433",
   "metadata": {},
   "source": [
    "# Create a topic "
   ]
  },
  {
   "cell_type": "code",
   "execution_count": null,
   "id": "f17cca33",
   "metadata": {},
   "outputs": [],
   "source": [
    "cd kafka_2.12-2.8.0"
   ]
  },
  {
   "cell_type": "code",
   "execution_count": null,
   "id": "adb40a1e",
   "metadata": {},
   "outputs": [],
   "source": [
    "bin/kafka-topics.sh --create --topic news --bootstrap-server localhost:9092"
   ]
  },
  {
   "cell_type": "code",
   "execution_count": null,
   "id": "9d05e654",
   "metadata": {},
   "outputs": [],
   "source": []
  },
  {
   "cell_type": "code",
   "execution_count": null,
   "id": "540eadd7",
   "metadata": {},
   "outputs": [],
   "source": [
    "bin/kafka-topics.sh --bootstrap-server localhost:9092 --create --topic bankbranch  --partitions 2"
   ]
  },
  {
   "cell_type": "code",
   "execution_count": null,
   "id": "8a5228f1",
   "metadata": {},
   "outputs": [],
   "source": [
    "bin/kafka-topics.sh --bootstrap-server localhost:9092 --list"
   ]
  },
  {
   "cell_type": "code",
   "execution_count": null,
   "id": "1ae7e24e",
   "metadata": {},
   "outputs": [],
   "source": [
    "bin/kafka-topics.sh --bootstrap-server localhost:9092 --describe --topic bankbranch"
   ]
  },
  {
   "cell_type": "code",
   "execution_count": null,
   "id": "01192036",
   "metadata": {},
   "outputs": [],
   "source": [
    "bin/kafka-console-producer.sh --bootstrap-server localhost:9092 --topic bankbranch "
   ]
  },
  {
   "cell_type": "code",
   "execution_count": 1,
   "id": "f5bf821e",
   "metadata": {},
   "outputs": [
    {
     "data": {
      "text/plain": [
       "{'atmid': 1, 'transid': 100}"
      ]
     },
     "execution_count": 1,
     "metadata": {},
     "output_type": "execute_result"
    }
   ],
   "source": [
    "\n",
    "{\"atmid\": 1, \"transid\": 100}\n",
    "{\"atmid\": 1, \"transid\": 101}\n",
    "{\"atmid\": 2, \"transid\": 200}\n",
    "{\"atmid\": 1, \"transid\": 102}\n",
    "{\"atmid\": 2, \"transid\": 201}"
   ]
  },
  {
   "cell_type": "code",
   "execution_count": null,
   "id": "43b9f363",
   "metadata": {},
   "outputs": [],
   "source": [
    "bin/kafka-console-consumer.sh --bootstrap-server localhost:9092 --topic bankbranch --from-beginning"
   ]
  },
  {
   "cell_type": "code",
   "execution_count": null,
   "id": "91d6781f",
   "metadata": {},
   "outputs": [],
   "source": [
    "bin/kafka-console-producer.sh --bootstrap-server localhost:9092 --topic bankbranch --property parse.key=true --property key.separator=:"
   ]
  },
  {
   "cell_type": "code",
   "execution_count": null,
   "id": "5f054414",
   "metadata": {},
   "outputs": [],
   "source": [
    "bin/kafka-console-consumer.sh --bootstrap-server localhost:9092 --topic bankbranch --from-beginning --property print.key=true --property key.separator=:"
   ]
  },
  {
   "cell_type": "code",
   "execution_count": null,
   "id": "cb16952f",
   "metadata": {},
   "outputs": [],
   "source": [
    "bin/kafka-console-consumer.sh --bootstrap-server localhost:9092 --topic bankbranch --group atm-app"
   ]
  },
  {
   "cell_type": "code",
   "execution_count": null,
   "id": "2efcfe77",
   "metadata": {},
   "outputs": [],
   "source": [
    "bin/kafka-consumer-groups.sh --bootstrap-server localhost:9092 --describe --group atm-app"
   ]
  },
  {
   "cell_type": "code",
   "execution_count": null,
   "id": "57bcc263",
   "metadata": {},
   "outputs": [],
   "source": [
    "bin/kafka-consumer-groups.sh --bootstrap-server localhost:9092 --describe --group atm-app"
   ]
  },
  {
   "cell_type": "code",
   "execution_count": null,
   "id": "2c0a6638",
   "metadata": {},
   "outputs": [],
   "source": [
    "bin/kafka-consumer-groups.sh --bootstrap-server localhost:9092  --topic bankbranch --group atm-app --reset-offsets --shift-by -2 --execute"
   ]
  },
  {
   "cell_type": "code",
   "execution_count": null,
   "id": "dd5d8d31",
   "metadata": {},
   "outputs": [],
   "source": [
    "bin/kafka-console-consumer.sh --bootstrap-server localhost:9092 --topic bankbranch --group atm-app"
   ]
  },
  {
   "cell_type": "code",
   "execution_count": null,
   "id": "8d55d452",
   "metadata": {},
   "outputs": [],
   "source": []
  },
  {
   "cell_type": "markdown",
   "id": "e6fe3385",
   "metadata": {},
   "source": [
    "# Start a producer"
   ]
  },
  {
   "cell_type": "code",
   "execution_count": null,
   "id": "01ef7dfa",
   "metadata": {},
   "outputs": [],
   "source": [
    "bin/kafka-console-producer.sh --topic news --bootstrap-server localhost:9092"
   ]
  },
  {
   "cell_type": "code",
   "execution_count": null,
   "id": "a4591613",
   "metadata": {},
   "outputs": [],
   "source": [
    "Good morning\n",
    "Good day\n",
    "Enjoy the Kafka lab"
   ]
  },
  {
   "cell_type": "markdown",
   "id": "8626f3e6",
   "metadata": {},
   "source": [
    " # Start Consumer"
   ]
  },
  {
   "cell_type": "code",
   "execution_count": null,
   "id": "1eed64e9",
   "metadata": {},
   "outputs": [],
   "source": [
    "cd kafka_2.12-2.8.0\n",
    "bin/kafka-console-consumer.sh --topic news --from-beginning --bootstrap-server localhost:9092"
   ]
  },
  {
   "cell_type": "markdown",
   "id": "20843269",
   "metadata": {},
   "source": [
    "Kafka uses the directory /tmp/kakfa-logs to store the messages.\n",
    "\n",
    "Explore the folder news-0 inside /tmp/kakfa-logs.\n",
    "\n",
    "This is where all the messages are stored.\n",
    "\n",
    "Explore the folder /home/project/kafka_2.12-2.8.0\n",
    "\n",
    "This folder has the below 3 sub directories."
   ]
  },
  {
   "cell_type": "markdown",
   "id": "2dcd1f95",
   "metadata": {},
   "source": [
    " # Clean up"
   ]
  },
  {
   "cell_type": "code",
   "execution_count": null,
   "id": "cf31250f",
   "metadata": {},
   "outputs": [],
   "source": [
    "rm kafka_2.12-2.8.0.tgz"
   ]
  },
  {
   "cell_type": "code",
   "execution_count": null,
   "id": "0a51c90b",
   "metadata": {},
   "outputs": [],
   "source": []
  },
  {
   "cell_type": "markdown",
   "id": "41f363f0",
   "metadata": {},
   "source": [
    "# New Lab\n"
   ]
  },
  {
   "cell_type": "code",
   "execution_count": null,
   "id": "8dc67736",
   "metadata": {},
   "outputs": [],
   "source": [
    "wget https://archive.apache.org/dist/kafka/3.5.1/kafka_2.12-3.5.1.tgz"
   ]
  },
  {
   "cell_type": "code",
   "execution_count": null,
   "id": "3ba9202a",
   "metadata": {},
   "outputs": [],
   "source": [
    "tar -xzf kafka_2.12-3.5.1.tgz"
   ]
  },
  {
   "cell_type": "code",
   "execution_count": null,
   "id": "7014bdb3",
   "metadata": {},
   "outputs": [],
   "source": [
    "cd kafka_2.12-3.5.1"
   ]
  },
  {
   "cell_type": "code",
   "execution_count": null,
   "id": "2a317989",
   "metadata": {},
   "outputs": [],
   "source": [
    "bin/zookeeper-server-start.sh config/zookeeper.properties"
   ]
  },
  {
   "cell_type": "markdown",
   "id": "d26e0e96",
   "metadata": {},
   "source": [
    "## New terminal - starting broker service\n"
   ]
  },
  {
   "cell_type": "code",
   "execution_count": 2,
   "id": "1e452bef",
   "metadata": {},
   "outputs": [
    {
     "name": "stdout",
     "output_type": "stream",
     "text": [
      "[WinError 2] The system cannot find the file specified: 'kafka_2.12-3.5.1'\n",
      "E:\\WEBSITES CREATION\\COURSERA\\Data Engineering IBM\\8. ETL and Data Pipelines with Shell Airflow and Kafka\n"
     ]
    }
   ],
   "source": [
    "cd kafka_2.12-3.5.1"
   ]
  },
  {
   "cell_type": "code",
   "execution_count": 3,
   "id": "17612565",
   "metadata": {},
   "outputs": [
    {
     "ename": "SyntaxError",
     "evalue": "invalid syntax (Temp/ipykernel_11296/3915568539.py, line 1)",
     "output_type": "error",
     "traceback": [
      "\u001b[1;36m  File \u001b[1;32m\"C:\\Users\\Omar\\AppData\\Local\\Temp/ipykernel_11296/3915568539.py\"\u001b[1;36m, line \u001b[1;32m1\u001b[0m\n\u001b[1;33m    bin/kafka-server-start.sh config/server.properties\u001b[0m\n\u001b[1;37m                              ^\u001b[0m\n\u001b[1;31mSyntaxError\u001b[0m\u001b[1;31m:\u001b[0m invalid syntax\n"
     ]
    }
   ],
   "source": [
    "bin/kafka-server-start.sh config/server.properties"
   ]
  },
  {
   "cell_type": "markdown",
   "id": "3de99f9d",
   "metadata": {},
   "source": [
    "## Next new terminal"
   ]
  },
  {
   "cell_type": "code",
   "execution_count": null,
   "id": "7130abf9",
   "metadata": {},
   "outputs": [],
   "source": [
    "cd kafka_2.12-3.5.1"
   ]
  },
  {
   "cell_type": "code",
   "execution_count": null,
   "id": "868e8ff4",
   "metadata": {},
   "outputs": [],
   "source": [
    "pip3 install kafka-python"
   ]
  },
  {
   "cell_type": "code",
   "execution_count": null,
   "id": "2ec08166",
   "metadata": {},
   "outputs": [],
   "source": [
    "touch admin.py"
   ]
  },
  {
   "cell_type": "code",
   "execution_count": null,
   "id": "257f4999",
   "metadata": {},
   "outputs": [],
   "source": [
    "#in a admin.py file\n",
    "from kafka.admin import KafkaAdminClient,NewTopic\n",
    "admin_client = KafkaAdminClient(bootstrap_servers=\"localhost:9092\", client_id='test')\n",
    "topic_list = []\n",
    "new_topic = NewTopic(name=\"bankbranch\", num_partitions= 2, replication_factor=1)\n",
    "topic_list.append(new_topic)\n",
    "admin_client.create_topics(new_topics=topic_list)"
   ]
  },
  {
   "cell_type": "code",
   "execution_count": null,
   "id": "43a423e3",
   "metadata": {},
   "outputs": [],
   "source": [
    "touch producer.py"
   ]
  },
  {
   "cell_type": "code",
   "execution_count": null,
   "id": "90a5f6c2",
   "metadata": {},
   "outputs": [],
   "source": [
    "from kafka import KafkaProducer\n",
    "import json\n",
    "producer = KafkaProducer(value_serializer=lambda v: json.dumps(v).encode('utf-8'))\n",
    "producer.send(\"bankbranch\", {'atmid':1, 'transid':100})\n",
    "producer.send(\"bankbranch\", {'atmid':2, 'transid':101})\n",
    "\n",
    "producer.flush()\n",
    "\n",
    "producer.close()"
   ]
  },
  {
   "cell_type": "code",
   "execution_count": null,
   "id": "03d31934",
   "metadata": {},
   "outputs": [],
   "source": [
    "touch consumer.py"
   ]
  },
  {
   "cell_type": "code",
   "execution_count": null,
   "id": "522d69df",
   "metadata": {},
   "outputs": [],
   "source": [
    "from kafka import KafkaConsumer\n",
    "consumer = KafkaConsumer('bankbranch',\n",
    "                        group_id=None,\n",
    "                         bootstrap_servers=['localhost:9092'],\n",
    "                         auto_offset_reset = 'earliest')\n",
    "print(\"Hello\")\n",
    "print(consumer)\n",
    "\n",
    "for msg in consumer:\n",
    "    print(msg.value.decode(\"utf-8\"))"
   ]
  },
  {
   "cell_type": "code",
   "execution_count": null,
   "id": "4bc381df",
   "metadata": {},
   "outputs": [],
   "source": [
    "python3 admin.py\n",
    "python3 producer.py"
   ]
  },
  {
   "cell_type": "code",
   "execution_count": null,
   "id": "c17a65e1",
   "metadata": {},
   "outputs": [],
   "source": [
    "cd kafka_2.12-3.5.1\n",
    "python3 consumer.py"
   ]
  },
  {
   "cell_type": "code",
   "execution_count": null,
   "id": "278cd503",
   "metadata": {},
   "outputs": [],
   "source": []
  },
  {
   "cell_type": "markdown",
   "id": "0968ec5c",
   "metadata": {},
   "source": [
    "# Assignement\n"
   ]
  },
  {
   "cell_type": "code",
   "execution_count": null,
   "id": "0cc90a88",
   "metadata": {},
   "outputs": [],
   "source": [
    "wget https://archive.apache.org/dist/kafka/2.8.0/kafka_2.12-2.8.0.tgz"
   ]
  },
  {
   "cell_type": "code",
   "execution_count": null,
   "id": "07f074cc",
   "metadata": {},
   "outputs": [],
   "source": [
    "tar -xzf kafka_2.12-2.8.0.tgz"
   ]
  },
  {
   "cell_type": "code",
   "execution_count": null,
   "id": "3871ed56",
   "metadata": {},
   "outputs": [],
   "source": [
    "start_mysql"
   ]
  },
  {
   "cell_type": "code",
   "execution_count": null,
   "id": "de630e55",
   "metadata": {},
   "outputs": [],
   "source": [
    "mysql --host=127.0.0.1 --port=3306 --user=root --password='paste_a_password_here'"
   ]
  },
  {
   "cell_type": "code",
   "execution_count": null,
   "id": "76e54625",
   "metadata": {},
   "outputs": [],
   "source": [
    "create database tolldata;"
   ]
  },
  {
   "cell_type": "code",
   "execution_count": null,
   "id": "d5781d27",
   "metadata": {},
   "outputs": [],
   "source": [
    "use tolldata;\n",
    "\n",
    "create table livetolldata(timestamp datetime,vehicle_id int,vehicle_type char(15),toll_plaza_id smallint);"
   ]
  },
  {
   "cell_type": "code",
   "execution_count": null,
   "id": "fe0d13bd",
   "metadata": {},
   "outputs": [],
   "source": [
    "exit"
   ]
  },
  {
   "cell_type": "code",
   "execution_count": null,
   "id": "82cdfb4a",
   "metadata": {},
   "outputs": [],
   "source": [
    "python3 -m pip install kafka-python"
   ]
  },
  {
   "cell_type": "code",
   "execution_count": null,
   "id": "66bd17aa",
   "metadata": {},
   "outputs": [],
   "source": [
    "python3 -m pip install mysql-connector-python==8.0.31"
   ]
  },
  {
   "cell_type": "code",
   "execution_count": null,
   "id": "63822dd7",
   "metadata": {},
   "outputs": [],
   "source": []
  },
  {
   "cell_type": "code",
   "execution_count": null,
   "id": "65373c6a",
   "metadata": {},
   "outputs": [],
   "source": []
  },
  {
   "cell_type": "code",
   "execution_count": null,
   "id": "ea27a06d",
   "metadata": {},
   "outputs": [],
   "source": []
  },
  {
   "cell_type": "code",
   "execution_count": null,
   "id": "2990dda7",
   "metadata": {},
   "outputs": [],
   "source": []
  },
  {
   "cell_type": "code",
   "execution_count": null,
   "id": "74f26c1e",
   "metadata": {},
   "outputs": [],
   "source": []
  }
 ],
 "metadata": {
  "kernelspec": {
   "display_name": "Python 3 (ipykernel)",
   "language": "python",
   "name": "python3"
  },
  "language_info": {
   "codemirror_mode": {
    "name": "ipython",
    "version": 3
   },
   "file_extension": ".py",
   "mimetype": "text/x-python",
   "name": "python",
   "nbconvert_exporter": "python",
   "pygments_lexer": "ipython3",
   "version": "3.9.7"
  }
 },
 "nbformat": 4,
 "nbformat_minor": 5
}
