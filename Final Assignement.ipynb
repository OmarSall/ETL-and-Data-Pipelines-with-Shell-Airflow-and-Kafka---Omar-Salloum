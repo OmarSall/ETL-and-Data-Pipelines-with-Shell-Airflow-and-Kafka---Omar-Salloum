{
 "cells": [
  {
   "cell_type": "code",
   "execution_count": null,
   "id": "59cb1783",
   "metadata": {},
   "outputs": [],
   "source": [
    "sudo mkdir -p /home/project/airflow/dags/finalassignment/staging"
   ]
  },
  {
   "cell_type": "markdown",
   "id": "2d9e2db0",
   "metadata": {},
   "source": [
    "Note: If you face any permission issues in writing to the directories, please execute the following commands:"
   ]
  },
  {
   "cell_type": "code",
   "execution_count": null,
   "id": "9b781406",
   "metadata": {},
   "outputs": [],
   "source": [
    "sudo chown -R 100999 /home/project/airflow/dags/finalassignment\n",
    "sudo chmod -R g+rw /home/project/airflow/dags/finalassignment  \n",
    "sudo chown -R 100999 /home/project/airflow/dags/finalassignment/staging\n",
    "sudo chmod -R g+rw /home/project/airflow/dags/finalassignment/staging"
   ]
  },
  {
   "cell_type": "markdown",
   "id": "c44c8e68",
   "metadata": {},
   "source": [
    "Destination : /home/project/airflow/dags/finalassignment"
   ]
  },
  {
   "cell_type": "code",
   "execution_count": null,
   "id": "d87a01c9",
   "metadata": {},
   "outputs": [],
   "source": [
    "sudo wget https://cf-courses-data.s3.us.cloud-object-storage.appdomain.cloud/IBM-DB0250EN-SkillsNetwork/labs/Final%20Assignment/tolldata.tgz"
   ]
  },
  {
   "cell_type": "code",
   "execution_count": null,
   "id": "e1b3e54d",
   "metadata": {},
   "outputs": [],
   "source": [
    "wget https://cf-courses-data.s3.us.cloud-object-storage.appdomain.cloud/IBM-DB0250EN-SkillsNetwork/labs/Final%20Assignment/tolldata.tgz\n"
   ]
  },
  {
   "cell_type": "code",
   "execution_count": null,
   "id": "f51b4640",
   "metadata": {},
   "outputs": [],
   "source": []
  },
  {
   "cell_type": "code",
   "execution_count": null,
   "id": "1cb06572",
   "metadata": {},
   "outputs": [],
   "source": []
  },
  {
   "cell_type": "code",
   "execution_count": null,
   "id": "0a72b3e6",
   "metadata": {},
   "outputs": [],
   "source": []
  },
  {
   "cell_type": "code",
   "execution_count": null,
   "id": "a957026e",
   "metadata": {},
   "outputs": [],
   "source": []
  }
 ],
 "metadata": {
  "kernelspec": {
   "display_name": "Python 3 (ipykernel)",
   "language": "python",
   "name": "python3"
  },
  "language_info": {
   "codemirror_mode": {
    "name": "ipython",
    "version": 3
   },
   "file_extension": ".py",
   "mimetype": "text/x-python",
   "name": "python",
   "nbconvert_exporter": "python",
   "pygments_lexer": "ipython3",
   "version": "3.9.7"
  }
 },
 "nbformat": 4,
 "nbformat_minor": 5
}
